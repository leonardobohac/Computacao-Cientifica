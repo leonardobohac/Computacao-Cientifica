{
 "cells": [
  {
   "cell_type": "code",
   "execution_count": 1,
   "metadata": {},
   "outputs": [],
   "source": [
    "import numpy as np\n",
    "\n",
    "import matplotlib.pyplot as plt"
   ]
  },
  {
   "cell_type": "code",
   "execution_count": 2,
   "metadata": {},
   "outputs": [],
   "source": [
    "argwhere     = np.argwhere\n",
    "float64      = np.float64\n",
    "full         = np.full\n",
    "hstack       = np.hstack\n",
    "int          = np.int\n",
    "fromfunction = np.fromfunction\n",
    "linspace     = np.linspace\n",
    "meshgrid     = np.meshgrid\n",
    "vstack       = np.vstack\n",
    "where        = np.where\n",
    "zeros        = np.zeros\n",
    "\n",
    "linear_solve = np.linalg.solve"
   ]
  },
  {
   "cell_type": "code",
   "execution_count": 3,
   "metadata": {},
   "outputs": [],
   "source": [
    "def Display(A, cmap='cividis'):\n",
    "    \n",
    "    plt.figure(figsize=(10,10));\n",
    "    plt.imshow(A[::-1], extent=[0, 1.61, 0, 1.61], cmap=cmap);\n",
    "    plt.colorbar();"
   ]
  },
  {
   "cell_type": "code",
   "execution_count": 4,
   "metadata": {},
   "outputs": [],
   "source": [
    "n = 100\n",
    "h = 1/(n-1)"
   ]
  },
  {
   "cell_type": "code",
   "execution_count": 5,
   "metadata": {},
   "outputs": [],
   "source": [
    "L = linspace(0, 1.61, n)"
   ]
  },
  {
   "cell_type": "code",
   "execution_count": 6,
   "metadata": {},
   "outputs": [],
   "source": [
    "G = meshgrid(L, L)"
   ]
  },
  {
   "cell_type": "code",
   "execution_count": 7,
   "metadata": {},
   "outputs": [],
   "source": [
    "X = G[0]\n",
    "Y = G[1]"
   ]
  },
  {
   "cell_type": "code",
   "execution_count": 8,
   "metadata": {},
   "outputs": [],
   "source": [
    "Plaster_1 = where((X >= .00) & (Y >= .00) & ((X < .02) | (Y < .02)), .810, 0)\n",
    "Isolation = where((X >= .02) & (Y >= .02) & ((X < .14) | (Y < .14)), .049, 0)\n",
    "Porotherm = where((X >= .14) & (Y >= .14) & ((X < .59) | (Y < .59)), .500, 0)\n",
    "Plaster_2 = where((X >= .59) & (Y >= .59) & ((X < .61) | (Y < .61)), .990, 0)"
   ]
  },
  {
   "cell_type": "code",
   "execution_count": 9,
   "metadata": {},
   "outputs": [],
   "source": [
    "K = Plaster_1 + Isolation + Porotherm + Plaster_2"
   ]
  },
  {
   "cell_type": "code",
   "execution_count": 10,
   "metadata": {},
   "outputs": [
    {
     "data": {
      "image/png": "[encoded data removed]",
      "text/plain": [
       "<Figure size 720x720 with 2 Axes>"
      ]
     },
     "metadata": {
      "needs_background": "light"
     },
     "output_type": "display_data"
    }
   ],
   "source": [
    "Display(K)"
   ]
  },
  {
   "cell_type": "markdown",
   "metadata": {},
   "source": [
    "We will solve $\\:\\nabla\\cdot(k\\nabla T) = 0\\:$"
   ]
  },
  {
   "cell_type": "markdown",
   "metadata": {},
   "source": [
    "Expanding things:\n",
    "<br>\n",
    "\n",
    "$\\cfrac{\\partial}{\\partial x}\\Big(k_{(x,y)}\\frac{\\partial T}{\\partial x}\\Big) + \\cfrac{\\partial}{\\partial y}\\Big(k_{(x,y)}\\frac{\\partial T}{\\partial y}\\Big) = 0$"
   ]
  },
  {
   "cell_type": "markdown",
   "metadata": {},
   "source": [
    "By the Product Rule:\n",
    "<br>\n",
    "\n",
    "$\\cfrac{\\partial k_{(x,y)}}{\\partial x}\\cfrac{\\partial T}{\\partial x} + k_{(x,y)}\\cfrac{\\partial^2 T}{\\partial x^2}\\;+\\; \\cfrac{\\partial k_{(x,y)}}{\\partial y}\\cfrac{\\partial T}{\\partial y} + k_{(x,y)}\\cfrac{\\partial^2 T}{\\partial y^2} = 0$"
   ]
  },
  {
   "cell_type": "markdown",
   "metadata": {},
   "source": [
    "Regrouping:\n",
    "<br>\n",
    "\n",
    "$\\cfrac{\\partial k_{(x,y)}}{\\partial x}\\cfrac{\\partial T}{\\partial x} + \\cfrac{\\partial k_{(x,y)}}{\\partial y}\\cfrac{\\partial T}{\\partial y} + k_{(x,y)}\\Big(\\cfrac{\\partial^2 T}{\\partial x^2} + \\cfrac{\\partial^2 T}{\\partial y^2}\\Big) = 0$"
   ]
  },
  {
   "cell_type": "markdown",
   "metadata": {},
   "source": [
    "Saving notation from now on, let:\n",
    "<br>\n",
    "\n",
    "$\\begin{cases}\n",
    "k_{(x,y)} = k\\\\\n",
    "T_{(x,y)} = T\\\\\\\\\n",
    "\\lim\\limits_{h\\to 0} k_{(x+h,y)} = k^{+}_x\\\\\n",
    "\\lim\\limits_{h\\to 0} k_{(x,y+h)} = k^{+}_y\\\\ \n",
    "\\lim\\limits_{h\\to 0} T_{(x+h,y)} = T^{+}_x\\\\ \n",
    "\\lim\\limits_{h\\to 0} T_{(x-h,y)} = T^{-}_x\\\\\n",
    "\\lim\\limits_{h\\to 0} T_{(x,y+h)} = T^{+}_y\\\\ \n",
    "\\lim\\limits_{h\\to 0} T_{(x,y-h)} = T^{-}_y\\end{cases}$"
   ]
  },
  {
   "cell_type": "markdown",
   "metadata": {},
   "source": [
    "Discretizing the equation:\n",
    "<br>\n",
    "\n",
    "$\\cfrac{k^{+}_x - k}{h}\\cdot\\cfrac{T^{+}_x - T}{h} + \\cfrac{k^{+}_y - k}{h}\\cdot\\cfrac{T^{+}_y - T}{h}\n",
    "+k\\cdot\\cfrac{T^{+}_x - 2T + T^{-}_x + T^{+}_y - 2T + T^{-}_y}{h^2} = 0$"
   ]
  },
  {
   "cell_type": "markdown",
   "metadata": {},
   "source": [
    "Expanding:\n",
    "<br>\n",
    "\n",
    "$k^{+}_x T^{+}_x - k^{+}_x T - k T^{+}_x + k T\n",
    "+k^{+}_y T^{+}_y - k^{+}_y T - k T^{+}_y + k T\n",
    "+k T^{+}_x - 2k T + k T^{-}_x\n",
    "+k T^{+}_y - 2k T + k T^{-}_y = 0$"
   ]
  },
  {
   "cell_type": "markdown",
   "metadata": {},
   "source": [
    "Which leads to:\n",
    "<br>\n",
    "\n",
    "$\\cfrac{k^{+}_x T^{+}_x + k^{+}_y T^{+}_y + k T^{-}_x + k T^{-}_y}{k^{+}_x + 2k + k^{+}_y} - T = 0$"
   ]
  },
  {
   "cell_type": "markdown",
   "metadata": {},
   "source": [
    "Written in matrix form:\n",
    "<br>\n",
    "\n",
    "$\\cfrac{K[j,i+1]\\cdot T[j,i+1] + K[j+1,i]\\cdot T[j+1,i] + K[j,i]\\cdot T[j,i-1] + K[j,i]\\cdot T[j-1,i]}{K[j,i+1] + 2K[j,i] + K[j+1,i]} - T[j,i] = 0$"
   ]
  },
  {
   "cell_type": "markdown",
   "metadata": {},
   "source": [
    "_____________"
   ]
  },
  {
   "cell_type": "markdown",
   "metadata": {},
   "source": [
    "#### Boundary Conditions:\n",
    "\\**indexes go from 0 to n-1*"
   ]
  },
  {
   "cell_type": "markdown",
   "metadata": {},
   "source": [
    "$T[n-1,i] - T[n-2,i] = 0\\quad\\quad\\text{→ Neumann top}$\n",
    "<br>\n",
    "\n",
    "$T[j,n-1] - T[j,n-2] = 0\\quad\\quad\\text{→ Neumann right}$\n",
    "<br>\n",
    "\n",
    "$T[j,0]\\cdot K[j,0] + T[j,1]\\cdot \\Big( h \\cdot k_{ex} - K[j,0]\\Big) = h\\cdot k_{ex}\\cdot T_{ex}\\quad\\quad\\:\\:\\text{→ Newton left}$\n",
    "<br>\n",
    "\n",
    "$T[0,i]\\cdot K[0,i] + T[1,i]\\cdot \\Big( h \\cdot k_{ex} - K[0,i]\\Big) = h\\cdot k_{ex}\\cdot T_{ex}\\quad\\quad\\:\\:\\;\\text{→ Newton bottom}$\n",
    "<br>\n",
    "\n",
    "$T[j,\\hat{i}]\\cdot K[j,\\hat{i}]+ T[j,\\hat{i}-1]\\cdot \\Big( h \\cdot k_{in} - K[j,\\hat{i}]\\Big) = h\\cdot k_{in}\\cdot T_{in}\\quad\\quad\\text{→ Newton right-left}$\n",
    "<br>\n",
    "\n",
    "$T[\\hat{j},i]\\cdot K[\\hat{j},i] + T[\\hat{j}-1,i]\\cdot \\Big( h \\cdot k_{in} - K[\\hat{j},i]\\Big) = h\\cdot k_{in}\\cdot T_{in}\\quad\\quad\\text{→ Newton right-bottom}$"
   ]
  },
  {
   "cell_type": "markdown",
   "metadata": {},
   "source": [
    "______"
   ]
  },
  {
   "cell_type": "markdown",
   "metadata": {},
   "source": [
    "#### Assembling Matrix:\n",
    "*(inside)*"
   ]
  },
  {
   "cell_type": "code",
   "execution_count": 11,
   "metadata": {},
   "outputs": [],
   "source": [
    "def Mask(i, j, k, l):\n",
    "    \n",
    "    return ((l==i)&(k>=j-1)&(k<=j+1))|((k==j)&(l>=i-1)&(l<=i+1))"
   ]
  },
  {
   "cell_type": "code",
   "execution_count": 12,
   "metadata": {},
   "outputs": [],
   "source": [
    "def Coeff(i, j, k, l):\n",
    "    \n",
    "    return (K[j,i+1])*(l==i+1)+(K[j+1,i])*(k==j+1)+(K[j,i])*(l==i-1)+(K[j,i])*(k==j-1)-(K[j,i+1]+2*K[j,i]+K[j+1,i])*((l==i)&(k==j))"
   ]
  },
  {
   "cell_type": "code",
   "execution_count": 13,
   "metadata": {},
   "outputs": [],
   "source": [
    "M = fromfunction(lambda j, i, k, l: Coeff(i+1, j+1, k, l)*Mask(i+1, j+1, k, l), (n-2, n-2, n, n), dtype=int)"
   ]
  },
  {
   "cell_type": "markdown",
   "metadata": {},
   "source": [
    "*(boundaries)*"
   ]
  },
  {
   "cell_type": "code",
   "execution_count": 14,
   "metadata": {},
   "outputs": [],
   "source": [
    "M = vstack([zeros((1, n-2, n, n)), M, zeros((1, n-2 ,n, n))])\n",
    "M = hstack([zeros((n,   1, n, n)), M, zeros((n,   1, n, n))])"
   ]
  },
  {
   "cell_type": "code",
   "execution_count": 15,
   "metadata": {},
   "outputs": [],
   "source": [
    "T_ex = -11\n",
    "k_ex =  25\n",
    "T_in =  20\n",
    "k_in =   6"
   ]
  },
  {
   "cell_type": "code",
   "execution_count": 16,
   "metadata": {},
   "outputs": [],
   "source": [
    "î = argwhere(L < .61)[-1][0]\n",
    "ĵ = î"
   ]
  },
  {
   "cell_type": "code",
   "execution_count": 17,
   "metadata": {},
   "outputs": [],
   "source": [
    "Neu_top  = fromfunction(lambda i, k, l: (1)*((l==i)&(k==n-1))-((l==i)&(k==n-2)), (n, n, n), dtype=int)\n",
    "Neu_rig  = fromfunction(lambda j, k, l: (1)*((k==j)&(l==n-1))-((k==j)&(l==n-2)), (n, n, n), dtype=int)\n",
    "\n",
    "M[n-1, 1:î]  = Neu_top[1:î]\n",
    "M[1:ĵ, n-1]  = Neu_rig[1:ĵ]"
   ]
  },
  {
   "cell_type": "code",
   "execution_count": 18,
   "metadata": {},
   "outputs": [],
   "source": [
    "New_lef = fromfunction(lambda j, k, l: (K[j,0])*((k==j)&(l==0))+(h*k_ex - K[j,0])*((k==j)&(l==1)), (n, n, n), dtype=int)\n",
    "New_bot = fromfunction(lambda i, k, l: (K[0,i])*((l==i)&(k==0))+(h*k_ex - K[0,i])*((l==i)&(k==1)), (n, n, n), dtype=int)\n",
    "\n",
    "M[1:n-1, 0]  = New_lef[1:n-1]\n",
    "M[0, 1:n-1]  = New_bot[1:n-1]"
   ]
  },
  {
   "cell_type": "code",
   "execution_count": 19,
   "metadata": {},
   "outputs": [],
   "source": [
    "New_rle = fromfunction(lambda j, k, l: (K[j,î])*((k==j)&(l==î))+(h*k_in - K[j,î])*((k==j)&(l==î-1)), (n, n, n), dtype=int)\n",
    "New_rbo = fromfunction(lambda i, k, l: (K[ĵ,i])*((l==i)&(k==ĵ))+(h*k_in - K[ĵ,i])*((l==i)&(k==ĵ-1)), (n, n, n), dtype=int)\n",
    "\n",
    "M[ĵ+1:n-1, î]  = New_rle[ĵ+1:n-1]\n",
    "M[ĵ, î+1:n-1]  = New_rbo[î+1:n-1]"
   ]
  },
  {
   "cell_type": "code",
   "execution_count": 20,
   "metadata": {},
   "outputs": [],
   "source": [
    "F = zeros((n, n))\n",
    "\n",
    "F[1:n-1,  0] = h * k_ex * T_ex\n",
    "F[0,  1:n-1] = h * k_ex * T_ex\n",
    "F[ĵ+1:n-1,î] = h * k_in * T_in\n",
    "F[ĵ,î+1:n-1] = h * k_in * T_in"
   ]
  },
  {
   "cell_type": "code",
   "execution_count": 21,
   "metadata": {},
   "outputs": [],
   "source": [
    "# corners\n",
    "\n",
    "M[  0,  0] = zeros((n, n))\n",
    "M[n-1,  0] = zeros((n, n))\n",
    "M[n-1,  î] = zeros((n, n))\n",
    "M[  ĵ,  î] = zeros((n, n))\n",
    "M[  ĵ,n-1] = zeros((n, n))\n",
    "M[  0,n-1] = zeros((n, n))\n",
    "\n",
    "M[  0,  0,  0,  0] =  -1\n",
    "M[  0,  0,  1,  0] = 1/2\n",
    "M[  0,  0,  0,  1] = 1/2\n",
    "\n",
    "M[n-1,  0,n-1,  0] =  -1\n",
    "M[n-1,  0,n-1,  1] = 1/2\n",
    "M[n-1,  0,n-2,  0] = 1/2\n",
    "\n",
    "M[n-1,  î,n-1,  î] =  -1\n",
    "M[n-1,  î,n-1,î-1] = 1/2\n",
    "M[n-1,  î,n-2,  î] = 1/2\n",
    "\n",
    "M[  ĵ,  î,  ĵ,  î] =  -1\n",
    "M[  ĵ,  î,ĵ+1,  î] = 1/2\n",
    "M[  ĵ,  î,  ĵ,î+1] = 1/2\n",
    "\n",
    "M[  ĵ,n-1,  ĵ,n-1] =  -1\n",
    "M[  ĵ,n-1,  ĵ,n-2] = 1/2\n",
    "M[  ĵ,n-1,ĵ-1,n-1] = 1/2\n",
    "\n",
    "M[  0,n-1,  0,n-1] =  -1\n",
    "M[  0,n-1,  1,n-1] = 1/2\n",
    "M[  0,n-1,  0,n-2] = 1/2"
   ]
  },
  {
   "cell_type": "markdown",
   "metadata": {},
   "source": [
    "#### Solving:"
   ]
  },
  {
   "cell_type": "code",
   "execution_count": 22,
   "metadata": {},
   "outputs": [],
   "source": [
    "L_Shape = argwhere(K > 0)\n",
    "\n",
    "J = L_Shape[:,0]\n",
    "I = L_Shape[:,1]"
   ]
  },
  {
   "cell_type": "code",
   "execution_count": 23,
   "metadata": {},
   "outputs": [],
   "source": [
    "M = M[J,I][:,J,I]\n",
    "F = F[J,I]"
   ]
  },
  {
   "cell_type": "code",
   "execution_count": 24,
   "metadata": {},
   "outputs": [],
   "source": [
    "U = linear_solve(M, F)"
   ]
  },
  {
   "cell_type": "code",
   "execution_count": 25,
   "metadata": {},
   "outputs": [],
   "source": [
    "T = full((n,n), T_in, dtype=float64)"
   ]
  },
  {
   "cell_type": "code",
   "execution_count": 26,
   "metadata": {},
   "outputs": [],
   "source": [
    "T[J,I] = U"
   ]
  },
  {
   "cell_type": "code",
   "execution_count": 27,
   "metadata": {
    "scrolled": false
   },
   "outputs": [
    {
     "data": {
      "image/png": "[encoded data removed]",
      "text/plain": [
       "<Figure size 720x720 with 2 Axes>"
      ]
     },
     "metadata": {
      "needs_background": "light"
     },
     "output_type": "display_data"
    }
   ],
   "source": [
    "Display(T, 'nipy_spectral')"
   ]
  },
  {
   "cell_type": "code",
   "execution_count": null,
   "metadata": {},
   "outputs": [],
   "source": []
  }
 ],
 "metadata": {
  "kernelspec": {
   "display_name": "Python 3",
   "language": "python",
   "name": "python3"
  },
  "language_info": {
   "codemirror_mode": {
    "name": "ipython",
    "version": 3
   },
   "file_extension": ".py",
   "mimetype": "text/x-python",
   "name": "python",
   "nbconvert_exporter": "python",
   "pygments_lexer": "ipython3",
   "version": "3.7.4"
  }
 },
 "nbformat": 4,
 "nbformat_minor": 2
}
