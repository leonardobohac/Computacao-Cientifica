{
 "cells": [
  {
   "cell_type": "markdown",
   "metadata": {},
   "source": [
    "## Scientific Computing II - UFRJ\n",
    "\n",
    "### Project 1 - ODEs Systems\n",
    "\n",
    "#### Student  : Leonardo Bohac"
   ]
  },
  {
   "cell_type": "code",
   "execution_count": 1,
   "metadata": {},
   "outputs": [],
   "source": [
    "import numpy   as np\n",
    "import scipy.special\n",
    "\n",
    "import matplotlib.pyplot as plt"
   ]
  },
  {
   "cell_type": "code",
   "execution_count": 2,
   "metadata": {},
   "outputs": [],
   "source": [
    "arange    = np.arange\n",
    "array     = np.array\n",
    "exp       = np.exp\n",
    "eye       = np.eye\n",
    "hstack    = np.hstack\n",
    "imag      = np.imag\n",
    "linspace  = np.linspace\n",
    "log10     = np.log10\n",
    "newaxis   = np.newaxis\n",
    "real      = np.real\n",
    "repeat    = np.repeat\n",
    "unique    = np.unique\n",
    "eye       = np.eye\n",
    "vstack    = np.vstack\n",
    "zeros     = np.zeros\n",
    "det       = np.linalg.det\n",
    "eig       = np.linalg.eig\n",
    "inv       = np.linalg.inv\n",
    "power     = np.linalg.matrix_power\n",
    "factorial = scipy.special.factorial"
   ]
  },
  {
   "cell_type": "code",
   "execution_count": 3,
   "metadata": {},
   "outputs": [],
   "source": [
    "def Defective(A, tol=1e-12):\n",
    "    \"\"\" \n",
    "    Returns False if matrix A is non-defective; True otherwise.\n",
    "    \n",
    "    Commentaries: *This function can only make sense when applied to a square matrix.\n",
    "\n",
    "                  *The eigenvalues are rounded up to some number of tolerant decimal places. \n",
    "                   This prevents floating-point imprecisions when asking if two eigenvalues are equal.\n",
    "                   Eigenvalues very close to each other will be considered the same.\n",
    "  \n",
    "                  *The return statement can be interpreted as: If all eigenvalues are distinct, \n",
    "                   then the matrix is non-defective. If there are repeated eigenvalues,\n",
    "                   the matrix will be defective iff its eigenvectors are linearly dependent.\n",
    "                   \n",
    "    \"\"\"\n",
    "    \n",
    "    A = array(A)\n",
    "    \n",
    "    try:\n",
    "        \n",
    "        assert(A.shape[0] == A.shape[1])\n",
    "        \n",
    "    except:\n",
    "        print('Matrix is not square, returning None.')\n",
    "        return\n",
    "    \n",
    "    EVs   = eig(A)\n",
    "    eigva = EVs[0]\n",
    "    eigve = EVs[1]\n",
    "    \n",
    "    eigva = np.round(eigva , decimals=int(-log10(tol)))\n",
    "    \n",
    "    return (unique(eigva).size != eigva.size) & (abs(det(eigve)) < tol)"
   ]
  },
  {
   "cell_type": "code",
   "execution_count": 4,
   "metadata": {},
   "outputs": [],
   "source": [
    "def Solve_ODEs_Linear_System(A, b, initial_u, init_t=0, finl_t=1, stepsize=1e-3):\n",
    "    \"\"\"\n",
    "    Returns the solution for a linear system of ODEs with constant coefficients.\n",
    "    \n",
    "    The linear system is: \n",
    "    \n",
    "                                    u'(t) = Au(t) + b\n",
    "                                    \n",
    "                                    u(0)  = initial_u\n",
    "                                    \n",
    "                                    \n",
    "    where u(t) is the vector of unknown functions, and u'(t) is its (row-wise) derivative with respect to time. \n",
    "    \n",
    "\n",
    "    The number of unknown functions is n.\n",
    "    \n",
    "    \n",
    "    Dimensions : A         :: n x n\n",
    "                 b         :: n x 1\n",
    "                 initial_u :: n x 1\n",
    "                 u(t)      :: n x s (this is the output; it contains the values of all n functions \n",
    "                                     along each step in time)\n",
    "                 \n",
    "    \"\"\" \n",
    "    \n",
    "    A         = array(A)\n",
    "    b         = array(b)\n",
    "    initial_u = array(initial_u)\n",
    "    \n",
    "    try:\n",
    "        \n",
    "        assert(A.shape[0] == A.shape[1])\n",
    "        \n",
    "    except:\n",
    "        print('Matrix is not square, returning None.')\n",
    "        return\n",
    "    \n",
    "    def Exp(A, T, iters=10):\n",
    "        \"\"\"\n",
    "        This function returns eᴬᵀ. The uppercase T indicates that \n",
    "        the exponential will be computed for all the time values at once (not only \n",
    "        for a single t value) in a vectorized-fashion.\n",
    "        \"\"\"\n",
    "        s = len(T)\n",
    "        \n",
    "        if(Defective(A)):\n",
    "\n",
    "            I = arange(iters).reshape(-1,1)\n",
    "            \n",
    "            M = [power(A,0)]\n",
    "            for i in range(1,iters):\n",
    "                M.append(M[-1]@A) \n",
    "            M = array(M)\n",
    "            M = repeat(M[newaxis,:],s,axis=0)\n",
    "            \n",
    "            C = (np.repeat(T[newaxis,:], iters, axis=0)**I/factorial(I)).T[...,newaxis,newaxis]\n",
    "            \n",
    "            return (M*C).sum(axis=1) # Taylor's Expansion formula\n",
    "        \n",
    "        else:\n",
    "            \n",
    "            EVs   = eig(A)\n",
    "            eigva = EVs[0]\n",
    "            eigve = EVs[1]\n",
    "\n",
    "            L = repeat(eye(A.shape[0])[newaxis,:],s,axis=0)*exp(eigva*T[:,newaxis])[...,newaxis]\n",
    "\n",
    "            return eigve @ L @ inv(eigve) # Eigendecomposition formula\n",
    "        \n",
    "    \n",
    "    s = int((finl_t - init_t)/stepsize) + 1\n",
    "    \n",
    "    T = linspace(init_t, finl_t, s)\n",
    "    \n",
    "    E = Exp(A,T)\n",
    "\n",
    "    if(not b.any()):\n",
    "        # System is homogeneous\n",
    "        return (E@initial_u).T  # Complete solution for homogeneous system\n",
    "    \n",
    "    if(det(A) == 0):\n",
    "        print('Cannot solve non-homogenous system with A being singular. Returning None.')\n",
    "        return\n",
    "    \n",
    "    I = repeat(eye(A.shape[0])[newaxis,:],s,axis=0)\n",
    "\n",
    "    return (E@initial_u).T + inv(A)@((E-I)@b).T  # Complete solution for non-homogeneous system"
   ]
  },
  {
   "cell_type": "code",
   "execution_count": 5,
   "metadata": {},
   "outputs": [],
   "source": [
    "def Plot_ODEs_Linear_System_Solution(A, b, initial_u, init_t=0, finl_t=2, stepsize=1e-3):\n",
    "\n",
    "    Solution = Solve_ODEs_Linear_System(A, b, initial_u, init_t, finl_t, stepsize)\n",
    "    \n",
    "    if(Solution is None):\n",
    "        return\n",
    "    \n",
    "    if(Solution.dtype == np.complex128):\n",
    "        if(abs(imag(Solution)).max() > 1e-12):\n",
    "            print('Solution is complex-valued. Casting to real part only.')\n",
    "        Solution = real(Solution)\n",
    "    \n",
    "    T = linspace(init_t, finl_t, Solution.shape[1])\n",
    "    \n",
    "    plt.figure(figsize=(16,8))\n",
    "    plt.plot(T, Solution.T)"
   ]
  },
  {
   "cell_type": "code",
   "execution_count": 6,
   "metadata": {},
   "outputs": [],
   "source": [
    "A  = [[  1,  3,  1,  3],\n",
    "      [ -1,  1,  0,  3],\n",
    "      [  2,  1,  1, -1],\n",
    "      [ -4,  2, -3, -1]]\n",
    "\n",
    "\n",
    "b         = [0,0,0,0]\n",
    "\n",
    "initial_u = [1,1,1,1]"
   ]
  },
  {
   "cell_type": "code",
   "execution_count": 7,
   "metadata": {},
   "outputs": [
    {
     "data": {
      "image/png": "[encoded data removed]",
      "text/plain": [
       "<Figure size 1152x576 with 1 Axes>"
      ]
     },
     "metadata": {
      "needs_background": "light"
     },
     "output_type": "display_data"
    }
   ],
   "source": [
    "Plot_ODEs_Linear_System_Solution(A, b, initial_u)"
   ]
  },
  {
   "cell_type": "code",
   "execution_count": 8,
   "metadata": {},
   "outputs": [],
   "source": [
    "def Solve_Constant_Coefficients_Linear_ODE(Coeffs, IC):\n",
    "    \"\"\" \n",
    "    Returns the solution for an ODE of the form:\n",
    "    \n",
    "                                [a0, a1, ..., an]·[u(t)_0, u(t)_1, ..., u(t)_n] = k\n",
    "                                        \n",
    "    with initial condition\n",
    "    \n",
    "                                U(0) = [u(0)_0, u(0)_1, ..., u(0)_n]\n",
    "                                     \n",
    "    \n",
    "    where \n",
    "    \n",
    "            u(t)_j → j-th derivative of u(t)\n",
    "            \n",
    "            aj     → constant number (for any j)\n",
    "            \n",
    "            k      → constant number\n",
    "            \n",
    "    \n",
    "    As an intermediate step, this ｎ-order ODE will be reduced to a linear system of ｎ 1-order ODEs.\n",
    "    \n",
    "    This can be done by exploring the relations within the solution's vector U(t) (i.e. the components are\n",
    "    derivatives of one another). Each of these yields an equation for the desired linear system.\n",
    "    \n",
    "    The rearrangement comes as:\n",
    "    \n",
    "    \n",
    "    \n",
    "    [  0    1    0    …      0   ] [   u_0   ]            [   u_1   ]       [ 0 ]\n",
    "\n",
    "    [  0    0    1    …      0   ] [   u_1   ]            [   u_2   ]       [ 0 ]\n",
    "    \n",
    "            ⋮         ⋱                 ⋮           =          ⋮        -     ⋮  \n",
    "    \n",
    "    [  0    0    0    …      1   ] [ u_(n-2) ]            [ u_(n-1) ]       [ 0 ]\n",
    "    \n",
    "    [-a0  -a1  -a2    …  -a(n-1) ] [ u_(n-1) ]            [   u_n   ]       [ k ]\n",
    "    \n",
    "   \n",
    "   \n",
    "   \n",
    "   which is equivalent to a system  \n",
    "   \n",
    "   \n",
    "                                    AU = U' - b   ∴   U' = AU + b\n",
    "            \n",
    "                \n",
    "    \"\"\"\n",
    "    \n",
    "    Coeffs = array(Coeffs)\n",
    "    Ic     = array(IC)\n",
    "    \n",
    "    n = len(Coeffs) - 2\n",
    "    \n",
    "    try:\n",
    "        \n",
    "        assert(n == len(IC))\n",
    "        \n",
    "    except:\n",
    "        print('Dimension mismatch. Check if Coeffs and IC are the right sizes. Returning None.')\n",
    "        return\n",
    "    \n",
    "    Coeffs = Coeffs/Coeffs[0]\n",
    "    \n",
    "    A = vstack([hstack([zeros(n-1)[:,newaxis],eye(n-1)]), -Coeffs[-2:0:-1]])\n",
    "    \n",
    "    b = hstack([zeros(n-1), Coeffs[-1]])\n",
    "\n",
    "    return Solve_ODEs_Linear_System(A, b, IC)"
   ]
  },
  {
   "cell_type": "code",
   "execution_count": 9,
   "metadata": {},
   "outputs": [],
   "source": [
    "def Plot_Linear_ODE_Solution(Coeffs, IC, init_t=0, finl_t=2):\n",
    "\n",
    "    Solution = Solve_Constant_Coefficients_Linear_ODE(Coeffs, IC)\n",
    "    \n",
    "    if(Solution is None):\n",
    "        return\n",
    "    \n",
    "    Solution = Solution[0]\n",
    "    \n",
    "    if(Solution.dtype == np.complex128):\n",
    "        if(abs(imag(Solution)).max() > 1e-12):\n",
    "            print('Solution is complex-valued. Casting to real part only.')\n",
    "        Solution = real(Solution)\n",
    "    \n",
    "    T = linspace(init_t, finl_t, len(Solution))\n",
    "    \n",
    "    plt.figure(figsize=(16,8))\n",
    "    plt.plot(T, Solution.T)"
   ]
  },
  {
   "cell_type": "code",
   "execution_count": 10,
   "metadata": {},
   "outputs": [],
   "source": [
    "Coeffs = [2, -1, 1, 10]\n",
    "\n",
    "IC     = [1,0]"
   ]
  },
  {
   "cell_type": "code",
   "execution_count": 11,
   "metadata": {},
   "outputs": [
    {
     "data": {
      "image/png": "[encoded data removed]",
      "text/plain": [
       "<Figure size 1152x576 with 1 Axes>"
      ]
     },
     "metadata": {
      "needs_background": "light"
     },
     "output_type": "display_data"
    }
   ],
   "source": [
    "Plot_Linear_ODE_Solution(Coeffs, IC)"
   ]
  },
  {
   "cell_type": "code",
   "execution_count": null,
   "metadata": {},
   "outputs": [],
   "source": []
  }
 ],
 "metadata": {
  "kernelspec": {
   "display_name": "Python 3",
   "language": "python",
   "name": "python3"
  },
  "language_info": {
   "codemirror_mode": {
    "name": "ipython",
    "version": 3
   },
   "file_extension": ".py",
   "mimetype": "text/x-python",
   "name": "python",
   "nbconvert_exporter": "python",
   "pygments_lexer": "ipython3",
   "version": "3.7.3"
  }
 },
 "nbformat": 4,
 "nbformat_minor": 2
}
